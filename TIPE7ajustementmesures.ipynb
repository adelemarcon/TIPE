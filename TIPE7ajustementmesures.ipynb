{
 "cells": [
  {
   "cell_type": "markdown",
   "metadata": {},
   "source": [
    "## Ajustement des mesures de recharge"
   ]
  },
  {
   "cell_type": "code",
   "execution_count": 2,
   "metadata": {},
   "outputs": [],
   "source": [
    "import numpy as np\n",
    "from matplotlib import pyplot as plt"
   ]
  },
  {
   "cell_type": "code",
   "execution_count": null,
   "metadata": {},
   "outputs": [],
   "source": [
    "def lecture(fichier):\n",
    "    a = []\n",
    "    b = []\n",
    "    c = []\n",
    "    with open(fichier,'r') as f:\n",
    "        for ligne in f:\n",
    "            ai,bi,ci = [float(val.strip()) for val in ligne.split(';')]\n",
    "            a.append(ai)\n",
    "            b.append(bi)\n",
    "            c.append(ci)\n",
    "    return a, b, c\n",
    "\n",
    "def lecture2(fichier):\n",
    "    a = []\n",
    "    b = []\n",
    "    c = []\n",
    "    with open(fichier,'r') as f:\n",
    "        for ligne in f:\n",
    "            ai,bi,ci = [float(val.strip()) for val in ligne.split('\\t')]\n",
    "            a.append(ai)\n",
    "            b.append(bi)\n",
    "            c.append(ci)\n",
    "    return a, b, c\n",
    "\n",
    "def ajustement(fichier):\n",
    "    t, exp, moy = lecture(fichier)\n",
    "    N = []\n",
    "    T = []\n",
    "    for i in range (len(t)):\n",
    "        if np.abs(exp[i]-moy[i]) < 0.1:\n",
    "            N.append(exp[i])\n",
    "            T.append(t[i])\n",
    "    return T, N\n",
    "\n",
    "def ajustement2(fichier):\n",
    "    t, exp, moy = lecture2(fichier)\n",
    "    N = []\n",
    "    T = []\n",
    "    for i in range (len(t)):\n",
    "        if np.abs(exp[i]-moy[i]) < 0.1:\n",
    "            N.append(exp[i])\n",
    "            T.append(t[i])\n",
    "    return T, N\n",
    "\n",
    "T081,A081 = ajustement(\"TIPE7mesure08(1).csv\")"
   ]
  },
  {
   "cell_type": "code",
   "execution_count": null,
   "metadata": {},
   "outputs": [],
   "source": [
    "\n",
    "plt.scatter(T081, A081, color =\"red\", label = \"α = 0.7\", marker = '.')\n",
    "plt.xlabel(\"t (s)\")\n",
    "plt.ylabel(\"Tension (V)\")\n",
    "plt.title(\"Recharge d'une batterie pour différents coefficients α\")\n",
    "plt.grid()\n",
    "plt.legend()\n",
    "plt.show()\n"
   ]
  }
 ],
 "metadata": {
  "kernelspec": {
   "display_name": ".venv",
   "language": "python",
   "name": "python3"
  },
  "language_info": {
   "codemirror_mode": {
    "name": "ipython",
    "version": 3
   },
   "file_extension": ".py",
   "mimetype": "text/x-python",
   "name": "python",
   "nbconvert_exporter": "python",
   "pygments_lexer": "ipython3",
   "version": "3.12.3"
  }
 },
 "nbformat": 4,
 "nbformat_minor": 2
}
